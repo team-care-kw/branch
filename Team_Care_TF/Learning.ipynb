{
 "cells": [
  {
   "cell_type": "code",
   "execution_count": 8,
   "metadata": {
    "scrolled": false
   },
   "outputs": [
    {
     "name": "stdout",
     "output_type": "stream",
     "text": [
      "0     0.6981994     0.68984795\n",
      "2000     0.3746963     0.3921768\n",
      "4000     0.36293918     0.39327973\n",
      "6000     0.36062264     0.39266637\n",
      "8000     0.3604594     0.3922846\n",
      "Accuracy: 0.9122807\n"
     ]
    }
   ],
   "source": [
    "import tensorflow as tf\n",
    "import numpy as np\n",
    "\n",
    "#with tf.Session() as sess:\n",
    "#    new_saver = tf.train.import_meta_graph('model_save.ckpt.meta')\n",
    "#    new_saver.restore(sess, tf.train.latest_checkpoint('./'))\n",
    "\n",
    "x_data = np.loadtxt('./inputData.txt', delimiter = ',', unpack = True, dtype = 'float32')\n",
    "x_data = np.transpose(x_data)\n",
    "y_data = np.loadtxt('./Label.txt', delimiter = ',', unpack = True, dtype = 'float32')\n",
    "y_data = np.transpose(y_data)\n",
    "\n",
    "idx_shuffle = np.random.permutation(len(x_data))\n",
    "x_data = x_data[idx_shuffle]\n",
    "y_data = y_data[idx_shuffle]\n",
    "\n",
    "X = tf.placeholder(tf.float32, name = 'X') # 1 x 7*3, (x, y, z)\n",
    "Y = tf.placeholder(tf.float32, name = 'Y') # 1 x 2, softmax \n",
    "\n",
    "w1 = tf.Variable(tf.random_normal([21, 256], stddev = .1), name='w1')\n",
    "b1 = tf.Variable(tf.zeros([256]), name='b1')\n",
    "\n",
    "L1 = tf.add(tf.matmul(X, w1), b1)\n",
    "L1_act = tf.nn.relu(L1)\n",
    "                 \n",
    "w2 = tf.Variable(tf.random_normal([256, 256], stddev = .1), name='w2')\n",
    "b2 = tf.Variable(tf.zeros([256]), name='b2')\n",
    "\n",
    "L2 = tf.add(tf.matmul(L1_act, w2), b2)\n",
    "L2_act = tf.nn.relu(L2)\n",
    "      \n",
    "w3 = tf.Variable(tf.random_normal([256, 2], stddev = .1), name='w3')\n",
    "b3 = tf.Variable(tf.zeros([2]), name='b3')\n",
    "         \n",
    "m = tf.add(tf.matmul(L2_act, w3), b3)\n",
    "model = tf.nn.softmax(m, name = 'model')\n",
    "\n",
    "cost = tf.reduce_mean(tf.nn.softmax_cross_entropy_with_logits(labels = Y, logits = model))\n",
    "\n",
    "optimizer = tf.train.AdamOptimizer(learning_rate = 0.0001)\n",
    "train_op = optimizer.minimize(cost)\n",
    "\n",
    "\n",
    "sess = tf.Session()\n",
    "sess.run(tf.global_variables_initializer())\n",
    "\n",
    "for (step) in range(10000):\n",
    "    sess.run(train_op, feed_dict = {X:x_data[0:700], Y:y_data[0:700]})\n",
    "    \n",
    "    if (step) % 2000 == 0:\n",
    "        c = sess.run(cost, feed_dict = {X:x_data[0:700], Y:y_data[0:700]})\n",
    "        c_test = sess.run(cost, feed_dict = {X:x_data[700:], Y:y_data[700:]})\n",
    "        #l1 = sess.run(model, feed_dict =  {X:x_data[0:10]}) \n",
    "        print(step, \"   \", c, \"   \", c_test)\n",
    "        #print(l1)\n",
    "\n",
    "\n",
    "#mod = sess.run(model, feed_dict = {X:x_data[100:], Y:y_data[100:]})\n",
    "#mod = np.argmax(mod,1)\n",
    "#lab = np.argmax(y_data[100:], 1)\n",
    "\n",
    "correct = tf.equal(tf.argmax(model, 1), tf.argmax(Y, 1))\n",
    "accuracy = tf.reduce_mean(tf.cast(correct, 'float'))\n",
    "\n",
    "print('Accuracy:', sess.run(accuracy, feed_dict = {X:x_data[700:], Y:y_data[700:]}))\n",
    "\n",
    "saver = tf.train.Saver()\n",
    "save_path = saver.save(sess, \"./model_save.ckpt\")"
   ]
  },
  {
   "cell_type": "code",
   "execution_count": null,
   "metadata": {},
   "outputs": [],
   "source": []
  },
  {
   "cell_type": "code",
   "execution_count": null,
   "metadata": {},
   "outputs": [],
   "source": []
  }
 ],
 "metadata": {
  "kernelspec": {
   "display_name": "Python 3",
   "language": "python",
   "name": "python3"
  },
  "language_info": {
   "codemirror_mode": {
    "name": "ipython",
    "version": 3
   },
   "file_extension": ".py",
   "mimetype": "text/x-python",
   "name": "python",
   "nbconvert_exporter": "python",
   "pygments_lexer": "ipython3",
   "version": "3.7.3"
  }
 },
 "nbformat": 4,
 "nbformat_minor": 2
}
