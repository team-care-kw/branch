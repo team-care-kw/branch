{
 "cells": [
  {
   "cell_type": "code",
   "execution_count": 10,
   "metadata": {
    "scrolled": true
   },
   "outputs": [
    {
     "name": "stdout",
     "output_type": "stream",
     "text": [
      "INFO:tensorflow:Restoring parameters from ./train_model.ckpt\n",
      "[[ 0.05615468 -0.07918146 -0.1276491  ...  0.04404273 -0.0357464\n",
      "  -0.08120807]\n",
      " [-0.11956346 -0.01123288  0.07501187 ...  0.02624983  0.0788675\n",
      "   0.15944047]\n",
      " [ 0.10351314 -0.03574323  0.05618756 ...  0.07739586 -0.1692572\n",
      "   0.11449286]\n",
      " ...\n",
      " [-0.0685081  -0.03472192  0.03138604 ... -0.05143889  0.03976431\n",
      "  -0.03920375]\n",
      " [-0.00318815  0.04627256 -0.1055063  ...  0.10371955  0.08587775\n",
      "  -0.24814224]\n",
      " [-0.06472998  0.0441906   0.21024382 ... -0.08256664  0.10411794\n",
      "  -0.11503237]]\n"
     ]
    }
   ],
   "source": [
    "import tensorflow as tf\n",
    "import numpy as np\n",
    "\n",
    "tf.reset_default_graph() \n",
    "\n",
    "x_data = np.loadtxt('./inputData.txt', delimiter = ',', unpack = True, dtype = 'float32')\n",
    "x_data = np.transpose(x_data)\n",
    "y_data = np.loadtxt('./Label.txt', delimiter = ',', unpack = True, dtype = 'float32')\n",
    "y_data = np.transpose(y_data)\n",
    "\n",
    "# Features and Labels\n",
    "X = tf.placeholder(tf.float32) # 1 x 7*3, (x, y, z)\n",
    "Y = tf.placeholder(tf.float32) # 1 x 2, softmax \n",
    "\n",
    "# Network\n",
    "w1 = tf.Variable(tf.random_normal([21, 128], stddev = .1))\n",
    "b1 = tf.Variable(tf.zeros([128]))\n",
    "\n",
    "L1 = tf.add(tf.matmul(X, w1), b1)\n",
    "L1_act = tf.nn.relu(L1)\n",
    "L1_do = tf.nn.dropout(L1_act, keep_prob = 0.7)\n",
    "                 \n",
    "w2 = tf.Variable(tf.random_normal([128, 128], stddev = .1))\n",
    "b2 = tf.Variable(tf.zeros([128]))\n",
    "\n",
    "L2 = tf.add(tf.matmul(L1_do, w2), b2)\n",
    "L2_act = tf.nn.relu(L2)\n",
    "L2_do = tf.nn.dropout(L2_act, keep_prob = 0.7)\n",
    "      \n",
    "w3 = tf.Variable(tf.random_normal([128, 2], stddev = .1))\n",
    "b3 = tf.Variable(tf.zeros([2]))\n",
    "         \n",
    "m = tf.add(tf.matmul(L2_do, w3), b3)\n",
    "model = tf.nn.softmax(m)\n",
    "\n",
    "cost = tf.reduce_mean(tf.nn.softmax_cross_entropy_with_logits(labels = Y, logits = model))\n",
    "\n",
    "save_file = './train_model.ckpt'\n",
    "saver = tf.train.Saver()\n",
    "\n",
    "with tf.Session() as sess:\n",
    "    saver.restore(sess, save_file)\n",
    "    \n",
    "    print(sess.run(w1))"
   ]
  },
  {
   "cell_type": "code",
   "execution_count": null,
   "metadata": {},
   "outputs": [],
   "source": []
  },
  {
   "cell_type": "code",
   "execution_count": null,
   "metadata": {},
   "outputs": [],
   "source": []
  },
  {
   "cell_type": "code",
   "execution_count": null,
   "metadata": {},
   "outputs": [],
   "source": []
  }
 ],
 "metadata": {
  "kernelspec": {
   "display_name": "Python 3",
   "language": "python",
   "name": "python3"
  },
  "language_info": {
   "codemirror_mode": {
    "name": "ipython",
    "version": 3
   },
   "file_extension": ".py",
   "mimetype": "text/x-python",
   "name": "python",
   "nbconvert_exporter": "python",
   "pygments_lexer": "ipython3",
   "version": "3.7.3"
  }
 },
 "nbformat": 4,
 "nbformat_minor": 2
}
